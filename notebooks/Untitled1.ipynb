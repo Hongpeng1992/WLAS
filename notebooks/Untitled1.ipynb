{
 "cells": [
  {
   "cell_type": "code",
   "execution_count": 1,
   "metadata": {
    "collapsed": true
   },
   "outputs": [],
   "source": [
    "import torch\n",
    "import torch.nn as nn\n",
    "from torch.autograd import Variable"
   ]
  },
  {
   "cell_type": "code",
   "execution_count": 3,
   "metadata": {
    "collapsed": true
   },
   "outputs": [],
   "source": [
    "class LipNet(nn.Module):\n",
    "    def __init__(self):\n",
    "        super(LipNet, self).__init__()\n",
    "        self.pooling = nn.MaxPool3d((1, 2, 2))\n",
    "        self.conv1 = nn.Conv3d(1, 32, (3, 5, 5), stride=(1, 2, 2), padding=(1, 2, 2))\n",
    "        self.batchnorm1 = nn.BatchNorm3d(32)\n",
    "        self.conv2 = nn.Conv3d(32, 64, (3, 5, 5), stride=(1, 2, 2), padding=(1, 2, 2))\n",
    "        self.batchnorm2 = nn.BatchNorm3d(64)\n",
    "        self.conv3 = nn.Conv3d(64, 96, (3, 3, 3), stride=(1, 2, 2), padding=(1, 2, 2))\n",
    "        self.batchnorm3 = nn.BatchNorm3d(96)\n",
    "        self.gru1 = nn.GRU(num_layers=2, bidirectional=True, batch_first=True)\n",
    "        self.gru2 = nn.GRU(num_layers=2, bidirectional=True, batch_first=True)\n",
    "        self.dense1 = nn.Linear()\n",
    "        self.dense2 = nn.Linear()\n",
    "    def forward(self, input):\n",
    "        pass"
   ]
  },
  {
   "cell_type": "code",
   "execution_count": 4,
   "metadata": {
    "collapsed": true
   },
   "outputs": [],
   "source": [
    "from skimage.io import imread"
   ]
  },
  {
   "cell_type": "code",
   "execution_count": 29,
   "metadata": {
    "collapsed": true
   },
   "outputs": [],
   "source": [
    "FRAME_PATH = \"/datadrive/faces/\""
   ]
  },
  {
   "cell_type": "code",
   "execution_count": 30,
   "metadata": {
    "collapsed": true
   },
   "outputs": [],
   "source": [
    "from os import path\n",
    "import os\n",
    "from tqdm import tqdm"
   ]
  },
  {
   "cell_type": "code",
   "execution_count": 45,
   "metadata": {},
   "outputs": [
    {
     "name": "stderr",
     "output_type": "stream",
     "text": [
      "100%|██████████| 33/33 [07:09<00:00, 13.02s/it]\n"
     ]
    }
   ],
   "source": [
    "def fixname(s):\n",
    "    return s.split('_')[2]\n",
    "\n",
    "speakers = {}\n",
    "for s in tqdm(os.listdir(FRAME_PATH)):\n",
    "    PATH = path.join(FRAME_PATH, s)\n",
    "    speakers[s] = {}\n",
    "    for folder in os.listdir(PATH):\n",
    "        PATH2 = path.join(PATH, folder)\n",
    "        speakers[s][fixname(folder)] = []\n",
    "        for filename in os.listdir(PATH2):\n",
    "            speakers[s][fixname(folder)].append(imread(path.join(PATH2, filename)))"
   ]
  },
  {
   "cell_type": "code",
   "execution_count": 64,
   "metadata": {},
   "outputs": [
    {
     "name": "stderr",
     "output_type": "stream",
     "text": [
      "100%|██████████| 34/34 [00:02<00:00, 12.83it/s]\n"
     ]
    }
   ],
   "source": [
    "WORD_PATH = \"/home/mavrandr/gridcorpus/words/\"\n",
    "\n",
    "def fixname(s):\n",
    "    return s.split('.')[0]\n",
    "\n",
    "word_alignments = {}\n",
    "for s in tqdm(os.listdir(WORD_PATH)):\n",
    "    PATH = path.join(WORD_PATH, s, \"align\")\n",
    "    word_alignments[s] = {}\n",
    "    for filename in os.listdir(PATH):\n",
    "        word_alignments[s][fixname(filename)] = []\n",
    "        with open(path.join(PATH, filename)) as ftr:\n",
    "            for line in ftr:\n",
    "                l1, l2, w = line.split()\n",
    "                l1 = round(int(l1) / 1000) - 1\n",
    "                l2 = round(int(l2) / 1000) + 1\n",
    "                word_alignments[s][fixname(filename)].append((w, l1, l2))"
   ]
  },
  {
   "cell_type": "code",
   "execution_count": 65,
   "metadata": {},
   "outputs": [
    {
     "data": {
      "text/plain": [
       "[('sil', -1, 12),\n",
       " ('set', 10, 21),\n",
       " ('blue', 19, 26),\n",
       " ('by', 24, 29),\n",
       " ('u', 27, 33),\n",
       " ('one', 31, 39),\n",
       " ('soon', 37, 49),\n",
       " ('sil', 47, 75)]"
      ]
     },
     "execution_count": 65,
     "metadata": {},
     "output_type": "execute_result"
    }
   ],
   "source": [
    "word_alignments['s1']['sbbu1s']"
   ]
  },
  {
   "cell_type": "code",
   "execution_count": 153,
   "metadata": {},
   "outputs": [],
   "source": [
    "import numpy as np\n",
    "\n",
    "MAX_WORDS = 8\n",
    "MAX_FRAMES = 8\n",
    "for_valida = [\"s5\", \"s14\"]\n",
    "\n",
    "def encode_words(s):\n",
    "    res = []\n",
    "    for word, _, _ in s:\n",
    "        if word == 'sil':\n",
    "            res.append(0)\n",
    "        else:\n",
    "            #print(word, s)\n",
    "            res.extend(ord(a) - ord('a') + 1 for a in word)\n",
    "            res.append(0)\n",
    "    if s[-1][0] != 'sil':\n",
    "        res.pop()\n",
    "    return res\n",
    "\n",
    "def generate_XY(speakers, word_alignments, words_lengths=(1, 2), frame_length=24, drop_rate=0.8):\n",
    "    X, Y = [], []\n",
    "    for s in speakers.keys():\n",
    "        if s in for_valida:\n",
    "            continue\n",
    "        for vid in speakers[s].keys():\n",
    "            if len(speakers[s][vid]) == 75 and vid in word_alignments[s] and np.random.rand() > drop_rate:\n",
    "                length = np.random.choice(np.arange(*words_lengths)) \n",
    "                pos = np.random.choice(len(word_alignments[s][vid]) - length + 1)\n",
    "                l, r = word_alignments[s][vid][pos][1], word_alignments[s][vid][pos + length - 1][2]\n",
    "                l = max(0, l)\n",
    "                if (r - l > frame_length):\n",
    "                    continue\n",
    "                X.append(speakers[s][vid][l:r])\n",
    "                Y.append(encode_words(word_alignments[s][vid][pos:pos+length]))\n",
    "    return X, Y"
   ]
  },
  {
   "cell_type": "code",
   "execution_count": 154,
   "metadata": {},
   "outputs": [],
   "source": [
    "X, Y = generate_XY(speakers, word_alignments, drop_rate=0.99)"
   ]
  },
  {
   "cell_type": "code",
   "execution_count": 155,
   "metadata": {},
   "outputs": [],
   "source": [
    "def add_zeros(X):\n",
    "    max_len = max(len(x) for x in X)\n",
    "    return np.array([x + [np.zeros((120, 120)) for i in range(max_len - len(x))] for x in X])\n",
    "\n",
    "def iterate_batch(X, Y, batch_size=32):\n",
    "    ind = np.arange(len(X))\n",
    "    np.random.shuffle(ind)\n",
    "    X = [X[i] for i in ind]\n",
    "    Y = [Y[i] for i in ind]\n",
    "    for i in range(0, len(X), batch_size):\n",
    "        yield add_zeros(X[i:i+batch_size]), Y[i:i+batch_size]"
   ]
  }
 ],
 "metadata": {
  "kernelspec": {
   "display_name": "Python 3",
   "language": "python",
   "name": "python3"
  },
  "language_info": {
   "codemirror_mode": {
    "name": "ipython",
    "version": 3
   },
   "file_extension": ".py",
   "mimetype": "text/x-python",
   "name": "python",
   "nbconvert_exporter": "python",
   "pygments_lexer": "ipython3",
   "version": "3.6.3"
  }
 },
 "nbformat": 4,
 "nbformat_minor": 2
}
